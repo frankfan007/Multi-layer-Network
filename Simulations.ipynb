{
 "cells": [
  {
   "cell_type": "code",
   "execution_count": 1,
   "metadata": {},
   "outputs": [],
   "source": [
    "from numpy import linalg as LA\n",
    "from scipy.sparse.linalg.eigen.arpack import eigsh as largest_eigsh\n",
    "from sklearn.cluster import KMeans\n",
    "from sklearn.mixture import GaussianMixture\n",
    "from sklearn.metrics.cluster import adjusted_rand_score\n",
    "from multi import *\n",
    "import matplotlib.pyplot as plt\n",
    "import numpy as np\n",
    "\n",
    "%matplotlib inline"
   ]
  },
  {
   "cell_type": "markdown",
   "metadata": {},
   "source": [
    "# MPPM"
   ]
  },
  {
   "cell_type": "markdown",
   "metadata": {},
   "source": [
    "## Data Generation"
   ]
  },
  {
   "cell_type": "code",
   "execution_count": 2,
   "metadata": {},
   "outputs": [
    {
     "name": "stdout",
     "output_type": "stream",
     "text": [
      "[0.8333333333333334, 0.16666666666666669]\n"
     ]
    }
   ],
   "source": [
    "## Parameters\n",
    "n = 600\n",
    "k = 2\n",
    "L = 2\n",
    "rho = 2*np.log(n)/n\n",
    "pi = [1/2,1/2]\n",
    "in_list = [4,4]\n",
    "out_list = [2,3.5]\n",
    "\n",
    "## Generate multi-layer adjacency matrices\n",
    "Ares,gt = genPPM(n,k,L,rho,pi,in_list,out_list)\n",
    "\n",
    "## Optimal weight\n",
    "print(lam_norm(in_list,out_list,k=2))"
   ]
  },
  {
   "cell_type": "markdown",
   "metadata": {},
   "source": [
    "## Algorithms"
   ]
  },
  {
   "cell_type": "markdown",
   "metadata": {},
   "source": [
    "SCME_gm"
   ]
  },
  {
   "cell_type": "code",
   "execution_count": 3,
   "metadata": {},
   "outputs": [
    {
     "name": "stdout",
     "output_type": "stream",
     "text": [
      "Weights:  [0.869 0.131]\n",
      "ARI:  0.9215\n"
     ]
    }
   ],
   "source": [
    "test = SCME(Ares,k,method = 'gmm')\n",
    "label,lamb,eratio = test.multipleUpdate(itr = 10)\n",
    "print('Weights: ',np.round(lamb,4))\n",
    "print('ARI: ',round(adjusted_rand_score(label,gt),4))"
   ]
  },
  {
   "cell_type": "markdown",
   "metadata": {},
   "source": [
    "SCME_km"
   ]
  },
  {
   "cell_type": "code",
   "execution_count": 4,
   "metadata": {},
   "outputs": [
    {
     "name": "stdout",
     "output_type": "stream",
     "text": [
      "Weights:  [0.869 0.131]\n",
      "ARI:  0.9279\n"
     ]
    }
   ],
   "source": [
    "test = SCME(Ares,k,method = 'km')\n",
    "label,lamb,eratio = test.multipleUpdate(itr = 10)\n",
    "print('Weights: ',np.round(lamb,4))\n",
    "print('ARI: ',round(adjusted_rand_score(label,gt),4))"
   ]
  },
  {
   "cell_type": "markdown",
   "metadata": {},
   "source": [
    "ISC_gm"
   ]
  },
  {
   "cell_type": "code",
   "execution_count": 5,
   "metadata": {},
   "outputs": [
    {
     "name": "stdout",
     "output_type": "stream",
     "text": [
      "Weights:  [0.9066 0.0934]\n",
      "ARI:  0.9279\n"
     ]
    }
   ],
   "source": [
    "test = ISC(Ares,k,method = 'gmm')\n",
    "lamb,label = test.opt()\n",
    "print('Weights: ',np.round(lamb,4))\n",
    "print('ARI: ',round(adjusted_rand_score(label,gt),4))"
   ]
  },
  {
   "cell_type": "markdown",
   "metadata": {},
   "source": [
    "ISC_km"
   ]
  },
  {
   "cell_type": "code",
   "execution_count": 6,
   "metadata": {},
   "outputs": [
    {
     "name": "stdout",
     "output_type": "stream",
     "text": [
      "Weights:  [0.9968 0.0032]\n",
      "ARI:  0.9279\n"
     ]
    }
   ],
   "source": [
    "test = ISC(Ares,k,method = 'km')\n",
    "lamb,label = test.opt()\n",
    "print('Weights: ',np.round(lamb,4))\n",
    "print('ARI: ',round(adjusted_rand_score(label,gt),4))"
   ]
  },
  {
   "cell_type": "markdown",
   "metadata": {},
   "source": [
    "ASC"
   ]
  },
  {
   "cell_type": "code",
   "execution_count": 7,
   "metadata": {},
   "outputs": [
    {
     "name": "stdout",
     "output_type": "stream",
     "text": [
      "0.33529049861300675\n"
     ]
    }
   ],
   "source": [
    "kmeans = ASC(Ares,k)\n",
    "print(adjusted_rand_score(kmeans.labels_,gt))"
   ]
  },
  {
   "cell_type": "markdown",
   "metadata": {},
   "source": [
    "MAM"
   ]
  },
  {
   "cell_type": "code",
   "execution_count": 8,
   "metadata": {},
   "outputs": [
    {
     "name": "stdout",
     "output_type": "stream",
     "text": [
      "0.22938592696118118\n"
     ]
    }
   ],
   "source": [
    "asso = [True]*L\n",
    "test = MAM(Ares,asso,k)\n",
    "_,mam = test.Mam()\n",
    "print(adjusted_rand_score(SC(mam,k),gt))"
   ]
  },
  {
   "cell_type": "markdown",
   "metadata": {},
   "source": [
    "Mean adj"
   ]
  },
  {
   "cell_type": "code",
   "execution_count": 9,
   "metadata": {},
   "outputs": [
    {
     "name": "stdout",
     "output_type": "stream",
     "text": [
      "0.7506953968800606\n"
     ]
    }
   ],
   "source": [
    "print(adjusted_rand_score(SC(sum([a*b for a,b in zip([1/L]*L,Ares)]),k),gt))"
   ]
  },
  {
   "cell_type": "markdown",
   "metadata": {},
   "source": [
    "# SBM"
   ]
  },
  {
   "cell_type": "markdown",
   "metadata": {},
   "source": [
    "## Data Generation"
   ]
  },
  {
   "cell_type": "code",
   "execution_count": 10,
   "metadata": {},
   "outputs": [],
   "source": [
    "## Parameters\n",
    "n = 600\n",
    "k = 2\n",
    "L = 2\n",
    "rho = 1.6*np.log(n)/n\n",
    "pi = [1/2,1/2]\n",
    "Alist = [np.array([[5,2],[2,4]]),np.array([[4,3.5],[3.5,5]])]\n",
    "\n",
    "## Generate multi-layer adjacency matrices\n",
    "Ares,gt = genSBM(n,k,L,rho,pi,Alist)"
   ]
  },
  {
   "cell_type": "markdown",
   "metadata": {},
   "source": [
    "## Algorithms"
   ]
  },
  {
   "cell_type": "markdown",
   "metadata": {},
   "source": [
    "SCME_gm"
   ]
  },
  {
   "cell_type": "code",
   "execution_count": 11,
   "metadata": {},
   "outputs": [
    {
     "name": "stdout",
     "output_type": "stream",
     "text": [
      "Weights:  [0.7264 0.2736]\n",
      "ARI:  0.9279\n"
     ]
    }
   ],
   "source": [
    "test = SCME(Ares,k,method = 'gmm')\n",
    "label,lamb,eratio = test.multipleUpdate(itr = 10)\n",
    "print('Weights: ',np.round(lamb,4))\n",
    "print('ARI: ',round(adjusted_rand_score(label,gt),4))"
   ]
  },
  {
   "cell_type": "markdown",
   "metadata": {},
   "source": [
    "SCME_km"
   ]
  },
  {
   "cell_type": "code",
   "execution_count": 12,
   "metadata": {},
   "outputs": [
    {
     "name": "stdout",
     "output_type": "stream",
     "text": [
      "Weights:  [0.7264 0.2736]\n",
      "ARI:  0.9473\n"
     ]
    }
   ],
   "source": [
    "test = SCME(Ares,k,method = 'km')\n",
    "label,lamb,eratio = test.multipleUpdate(itr = 10)\n",
    "print('Weights: ',np.round(lamb,4))\n",
    "print('ARI: ',round(adjusted_rand_score(label,gt),4))"
   ]
  },
  {
   "cell_type": "markdown",
   "metadata": {},
   "source": [
    "ISC_gm"
   ]
  },
  {
   "cell_type": "code",
   "execution_count": 13,
   "metadata": {},
   "outputs": [
    {
     "name": "stdout",
     "output_type": "stream",
     "text": [
      "Weights:  [0.7964 0.2036]\n",
      "ARI:  0.9151\n"
     ]
    }
   ],
   "source": [
    "test = ISC(Ares,k,method = 'gmm')\n",
    "lamb,label = test.opt()\n",
    "print('Weights: ',np.round(lamb,4))\n",
    "print('ARI: ',round(adjusted_rand_score(label,gt),4))"
   ]
  },
  {
   "cell_type": "markdown",
   "metadata": {},
   "source": [
    "ISC_km"
   ]
  },
  {
   "cell_type": "code",
   "execution_count": 14,
   "metadata": {},
   "outputs": [
    {
     "name": "stdout",
     "output_type": "stream",
     "text": [
      "Weights:  [0.992 0.008]\n",
      "ARI:  0.8897\n"
     ]
    }
   ],
   "source": [
    "test = ISC(Ares,k,method = 'km')\n",
    "lamb,label = test.opt()\n",
    "print('Weights: ',np.round(lamb,4))\n",
    "print('ARI: ',round(adjusted_rand_score(label,gt),4))"
   ]
  },
  {
   "cell_type": "markdown",
   "metadata": {},
   "source": [
    "ASC"
   ]
  },
  {
   "cell_type": "code",
   "execution_count": 15,
   "metadata": {},
   "outputs": [
    {
     "name": "stdout",
     "output_type": "stream",
     "text": [
      "0.35893063748015896\n"
     ]
    }
   ],
   "source": [
    "kmeans = ASC(Ares,k)\n",
    "print(adjusted_rand_score(kmeans.labels_,gt))"
   ]
  },
  {
   "cell_type": "markdown",
   "metadata": {},
   "source": [
    "MAM"
   ]
  },
  {
   "cell_type": "code",
   "execution_count": 16,
   "metadata": {},
   "outputs": [
    {
     "name": "stdout",
     "output_type": "stream",
     "text": [
      "0.2590937497183385\n"
     ]
    }
   ],
   "source": [
    "asso = [True]*L\n",
    "test = MAM(Ares,asso,k)\n",
    "_,mam = test.Mam()\n",
    "print(adjusted_rand_score(SC(mam,k),gt))"
   ]
  },
  {
   "cell_type": "markdown",
   "metadata": {},
   "source": [
    "Mean adj"
   ]
  },
  {
   "cell_type": "code",
   "execution_count": 17,
   "metadata": {},
   "outputs": [
    {
     "name": "stdout",
     "output_type": "stream",
     "text": [
      "0.889694320656579\n"
     ]
    }
   ],
   "source": [
    "evals, evecs = largest_eigsh(sum([a*b for a,b in zip([1/L]*L,Ares)]),k+1, which='LM')\n",
    "evals_abs = abs(evals)\n",
    "evecs = evecs[:,evals_abs.argsort()]\n",
    "evals = evals[evals_abs.argsort()]\n",
    "model = GaussianMixture(n_components=k,n_init=10).fit(np.real(evecs[:,1:]))\n",
    "label = model.predict(np.real(evecs[:,1:]))\n",
    "print(adjusted_rand_score(label,gt))"
   ]
  }
 ],
 "metadata": {
  "kernelspec": {
   "display_name": "Python 3",
   "language": "python",
   "name": "python3"
  },
  "language_info": {
   "codemirror_mode": {
    "name": "ipython",
    "version": 3
   },
   "file_extension": ".py",
   "mimetype": "text/x-python",
   "name": "python",
   "nbconvert_exporter": "python",
   "pygments_lexer": "ipython3",
   "version": "3.7.3"
  },
  "toc": {
   "base_numbering": 1,
   "nav_menu": {},
   "number_sections": true,
   "sideBar": true,
   "skip_h1_title": false,
   "title_cell": "Table of Contents",
   "title_sidebar": "Contents",
   "toc_cell": false,
   "toc_position": {},
   "toc_section_display": true,
   "toc_window_display": false
  }
 },
 "nbformat": 4,
 "nbformat_minor": 2
}
